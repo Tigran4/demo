{
  "nbformat": 4,
  "nbformat_minor": 0,
  "metadata": {
    "colab": {
      "provenance": [],
      "collapsed_sections": []
    },
    "kernelspec": {
      "name": "python3",
      "display_name": "Python 3"
    },
    "language_info": {
      "name": "python"
    }
  },
  "cells": [
    {
      "cell_type": "code",
      "source": [
        "class Test:\n",
        "    @staticmethod\n",
        "    def assert_equals(a, b, *args, **kwargs):\n",
        "        assert a == b\n",
        "        print('Passed')"
      ],
      "metadata": {
        "id": "74NzinSViDZk"
      },
      "execution_count": 3,
      "outputs": []
    },
    {
      "cell_type": "markdown",
      "source": [
        "https://edabit.com/challenge/xRMQG4Sxewx5agDRr\n",
        "medium 2"
      ],
      "metadata": {
        "id": "PbtPriXfiHQM"
      }
    },
    {
      "cell_type": "code",
      "source": [
        "def find_highest(lst):\n",
        "\tif len(lst) == 1:\n",
        "\t\treturn lst[0]\n",
        "\telse:\n",
        "\t\tm = find_highest(lst[1:])\n",
        "\t\treturn m if m > lst[0] else lst[0]"
      ],
      "metadata": {
        "id": "B03gzBichXlV"
      },
      "execution_count": 1,
      "outputs": []
    },
    {
      "cell_type": "code",
      "source": [
        "Test.assert_equals(find_highest([8]), 8)\n",
        "Test.assert_equals(find_highest([-1, 3, 5, 6, 99, 12, 2]), 99)\n",
        "Test.assert_equals(find_highest([0, 12, 4, 87]), 87)"
      ],
      "metadata": {
        "colab": {
          "base_uri": "https://localhost:8080/"
        },
        "id": "rcO6w2cGh0oz",
        "outputId": "2ae7b3c7-aecb-4068-d06a-a5b68e820fb2"
      },
      "execution_count": 4,
      "outputs": [
        {
          "output_type": "stream",
          "name": "stdout",
          "text": [
            "Passed\n",
            "Passed\n",
            "Passed\n"
          ]
        }
      ]
    },
    {
      "cell_type": "markdown",
      "source": [
        "https://edabit.com/challenge/zkKNmC66ASvSm5wJA hard 3"
      ],
      "metadata": {
        "id": "34PE4uyKj5Fz"
      }
    },
    {
      "cell_type": "code",
      "source": [
        "def perimeter(l, num):\n",
        "\treturn (l==\"s\")*num*4 + (l==\"c\")*num*6.28"
      ],
      "metadata": {
        "id": "RGFhCZBEj34d"
      },
      "execution_count": 5,
      "outputs": []
    },
    {
      "cell_type": "code",
      "source": [
        "Test.assert_equals(perimeter(\"s\", 1), 4)\n",
        "Test.assert_equals(perimeter(\"s\", 4), 16)\n",
        "Test.assert_equals(perimeter(\"s\", 9), 36)\n",
        "Test.assert_equals(perimeter(\"s\", 13), 52)\n",
        "Test.assert_equals(perimeter(\"s\", 30), 120)\n",
        "Test.assert_equals(perimeter(\"c\", 1), 6.28)\n",
        "Test.assert_equals(perimeter(\"c\", 4), 25.12)\n",
        "Test.assert_equals(perimeter(\"c\", 9), 56.52)\n",
        "Test.assert_equals(perimeter(\"c\", 13), 81.64)\n",
        "Test.assert_equals(perimeter(\"c\", 30), 188.4)"
      ],
      "metadata": {
        "colab": {
          "base_uri": "https://localhost:8080/"
        },
        "id": "XWBZyWjlkBia",
        "outputId": "6caa9b3f-e8e1-4288-efc9-e55edde36a1d"
      },
      "execution_count": 6,
      "outputs": [
        {
          "output_type": "stream",
          "name": "stdout",
          "text": [
            "Passed\n",
            "Passed\n",
            "Passed\n",
            "Passed\n",
            "Passed\n",
            "Passed\n",
            "Passed\n",
            "Passed\n",
            "Passed\n",
            "Passed\n"
          ]
        }
      ]
    },
    {
      "cell_type": "markdown",
      "source": [
        "https://edabit.com/challenge/Y5Ji2HDnQTX7MxeHt hard 3"
      ],
      "metadata": {
        "id": "c_b1VxicnAJb"
      }
    },
    {
      "cell_type": "code",
      "source": [
        "def snakefill(n):\n",
        "\ti = 0\n",
        "\twhile(2**i <= n * n):\n",
        "\t\ti += 1\n",
        "\treturn i-1\n",
        "snakefill(18)"
      ],
      "metadata": {
        "colab": {
          "base_uri": "https://localhost:8080/"
        },
        "id": "gBL4yJNlmndf",
        "outputId": "d69f466c-47d6-4917-e197-81773a10fff4"
      },
      "execution_count": 9,
      "outputs": [
        {
          "output_type": "execute_result",
          "data": {
            "text/plain": [
              "8"
            ]
          },
          "metadata": {},
          "execution_count": 9
        }
      ]
    },
    {
      "cell_type": "code",
      "source": [
        "Test.assert_equals(snakefill(8), 6)\n",
        "Test.assert_equals(snakefill(18), 8)\n",
        "Test.assert_equals(snakefill(555), 18)\n",
        "Test.assert_equals(snakefill(2), 2)\n",
        "Test.assert_equals(snakefill(1), 0)\n",
        "Test.assert_equals(snakefill(900), 19)"
      ],
      "metadata": {
        "colab": {
          "base_uri": "https://localhost:8080/"
        },
        "id": "yWzaOBOim9lH",
        "outputId": "94d215c4-8284-4a48-fec6-e9f151626365"
      },
      "execution_count": 10,
      "outputs": [
        {
          "output_type": "stream",
          "name": "stdout",
          "text": [
            "Passed\n",
            "Passed\n",
            "Passed\n",
            "Passed\n",
            "Passed\n",
            "Passed\n"
          ]
        }
      ]
    },
    {
      "cell_type": "markdown",
      "source": [
        "https://edabit.com/challenge/dfep4NR2twAFTdt9k very hard 4"
      ],
      "metadata": {
        "id": "dwXLn2iX3U1B"
      }
    },
    {
      "cell_type": "code",
      "source": [
        "import numpy as np\n",
        "def matrix_mult(m1, m2):\n",
        "  a = np.dot(m1, m2).tolist()\n",
        "  return a\n",
        "print(matrix_mult([[4, 2],[3, 1]], [[5, 6], [3, 8]]))"
      ],
      "metadata": {
        "colab": {
          "base_uri": "https://localhost:8080/"
        },
        "id": "EwWWRWmunCw6",
        "outputId": "ca93382d-0dac-411c-bd68-306955b6f919"
      },
      "execution_count": 27,
      "outputs": [
        {
          "output_type": "stream",
          "name": "stdout",
          "text": [
            "[[26, 40], [18, 26]]\n"
          ]
        }
      ]
    },
    {
      "cell_type": "code",
      "source": [
        "Test.assert_equals(matrix_mult([[4, 2],[3, 1]], [[5, 6], [3, 8]]), [[26, 40], [18, 26]])\n",
        "Test.assert_equals(matrix_mult([[3, 6],[4, 5]], [[8, 1], [7, 2]]), [[66, 15], [67, 14]])\n",
        "Test.assert_equals(matrix_mult([[7, 5],[2, 2]], [[6, 7], [3, 2]]), [[57, 59], [18, 18]])"
      ],
      "metadata": {
        "colab": {
          "base_uri": "https://localhost:8080/"
        },
        "id": "vPQoxvuvy9RL",
        "outputId": "3a9fe6dc-f009-4ea4-82b9-fc14afd43f31"
      },
      "execution_count": 28,
      "outputs": [
        {
          "output_type": "stream",
          "name": "stdout",
          "text": [
            "Passed\n",
            "Passed\n",
            "Passed\n"
          ]
        }
      ]
    },
    {
      "cell_type": "markdown",
      "source": [
        "https://edabit.com/challenge/BYDZmaM6e4TQrgneb hard 3"
      ],
      "metadata": {
        "id": "qhMp30T4iWop"
      }
    },
    {
      "cell_type": "code",
      "source": [
        "def fib_fast(num):\n",
        "\t\n",
        "\ta = 0\n",
        "\tb = 1\n",
        "\tfor i in range(num):\n",
        "\t\t\ta, b = b, a + b\n",
        "\treturn a\n",
        "  "
      ],
      "metadata": {
        "id": "ON-PqNeET8oF"
      },
      "execution_count": 36,
      "outputs": []
    },
    {
      "cell_type": "code",
      "source": [
        "Test.assert_equals(fib_fast(5), 5)\n",
        "Test.assert_equals(fib_fast(10), 55)\n",
        "Test.assert_equals(fib_fast(20), 6765)\n",
        "Test.assert_equals(fib_fast(30), 832040)\n",
        "Test.assert_equals(fib_fast(40), 102334155)\n",
        "Test.assert_equals(fib_fast(50), 12586269025)"
      ],
      "metadata": {
        "colab": {
          "base_uri": "https://localhost:8080/"
        },
        "id": "SHw9C0vEiUQI",
        "outputId": "baea59a8-4871-4e26-f1a4-b56d66ab699a"
      },
      "execution_count": 37,
      "outputs": [
        {
          "output_type": "stream",
          "name": "stdout",
          "text": [
            "Passed\n",
            "Passed\n",
            "Passed\n",
            "Passed\n",
            "Passed\n",
            "Passed\n"
          ]
        }
      ]
    }
  ]
}