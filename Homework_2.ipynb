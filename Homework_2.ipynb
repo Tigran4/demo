{
 "cells": [
  {
   "cell_type": "markdown",
   "metadata": {
    "id": "FJEDwUmfGcAA"
   },
   "source": [
    "# Библиотека Numpy"
   ]
  },
  {
   "cell_type": "code",
   "execution_count": 2,
   "metadata": {
    "id": "ukWxJlFEGcAE",
    "outputId": "7c80690d-e4e9-463d-d593-f46ee12732bd"
   },
   "outputs": [
    {
     "name": "stdout",
     "output_type": "stream",
     "text": [
      "6.99 ms ± 329 µs per loop (mean ± std. dev. of 7 runs, 100 loops each)\n"
     ]
    }
   ],
   "source": [
    "L = range(10000)\n",
    "%timeit [i**2 for i in L]"
   ]
  },
  {
   "cell_type": "code",
   "execution_count": 3,
   "metadata": {
    "id": "3OMx_qfpGcAG",
    "outputId": "6f4e460b-77d5-4865-9282-436144a805d3"
   },
   "outputs": [
    {
     "name": "stdout",
     "output_type": "stream",
     "text": [
      "19 µs ± 2.61 µs per loop (mean ± std. dev. of 7 runs, 100,000 loops each)\n"
     ]
    }
   ],
   "source": [
    "import numpy as np\n",
    "L = np.arange(10000)\n",
    "%timeit L**2"
   ]
  },
  {
   "cell_type": "markdown",
   "metadata": {
    "id": "Oyu7Q1u5GcAH"
   },
   "source": [
    "### Импорт библиотеки"
   ]
  },
  {
   "cell_type": "code",
   "execution_count": 4,
   "metadata": {
    "id": "yd1l9et9GcAI"
   },
   "outputs": [],
   "source": [
    "#Стандартный способ, которого желательно всюду придерживаться\n",
    "import numpy as np"
   ]
  },
  {
   "cell_type": "code",
   "execution_count": 5,
   "metadata": {
    "id": "yVTcyI0zGcAI"
   },
   "outputs": [],
   "source": [
    "#Другие возможные варианты\n",
    "import numpy\n",
    "from numpy import sort, sqrt, mean\n",
    "from numpy import *"
   ]
  },
  {
   "cell_type": "code",
   "execution_count": 6,
   "metadata": {
    "id": "nr_rdzBEGcAJ"
   },
   "outputs": [],
   "source": [
    "#Так делать не нужно\n",
    "from numpy import max\n",
    "import numpy as some_magic_liblary"
   ]
  },
  {
   "cell_type": "markdown",
   "metadata": {
    "id": "f-ULnIu1GcAJ"
   },
   "source": [
    "### Массив ndarray\n",
    "\n",
    "Numpy умеет хранить в памяти массивы **однородных** значений (int, float, строки ограниченной длины, указатели на другие объекты).\n",
    "\n",
    "Объект массив имеет несколько важных параметров:\n",
    "* shape - размерность массива\n",
    "* dtype - тип элементов массива\n",
    "* stride - описание того, как считывать массив "
   ]
  },
  {
   "cell_type": "markdown",
   "metadata": {
    "id": "f2HYSFhCGcAK"
   },
   "source": [
    "Пример одномерного массива:"
   ]
  },
  {
   "cell_type": "code",
   "execution_count": 7,
   "metadata": {
    "id": "A8tJ9y-pGcAL",
    "outputId": "3961ddfe-cfcf-4aeb-b1e5-1d3d5c682008"
   },
   "outputs": [
    {
     "data": {
      "text/plain": [
       "array([0, 1, 2, 3, 4, 5, 6, 7, 8, 9])"
      ]
     },
     "execution_count": 7,
     "metadata": {},
     "output_type": "execute_result"
    }
   ],
   "source": [
    "arr = np.arange(10)\n",
    "arr"
   ]
  },
  {
   "cell_type": "markdown",
   "metadata": {
    "id": "qRyDKU6JGcAL"
   },
   "source": [
    "Параметры массива:"
   ]
  },
  {
   "cell_type": "code",
   "execution_count": 8,
   "metadata": {
    "id": "Y2wq7o2OGcAM",
    "outputId": "ee7e2544-ad5d-450b-d4a5-62575300ef3d"
   },
   "outputs": [
    {
     "name": "stdout",
     "output_type": "stream",
     "text": [
      "(10,)\n",
      "int32\n",
      "(4,)\n"
     ]
    }
   ],
   "source": [
    "print(arr.shape)\n",
    "print(arr.dtype)\n",
    "print(arr.strides)"
   ]
  },
  {
   "cell_type": "markdown",
   "metadata": {
    "id": "8pCQdv4XGcAM"
   },
   "source": [
    "Пример двумерного массива:"
   ]
  },
  {
   "cell_type": "code",
   "execution_count": 9,
   "metadata": {
    "id": "qZAylahoGcAN",
    "outputId": "106358d5-1ae5-4610-cd64-af5cdcc22b1d"
   },
   "outputs": [
    {
     "data": {
      "text/plain": [
       "array([[0., 1., 2., 3., 4.],\n",
       "       [5., 6., 7., 8., 9.]])"
      ]
     },
     "execution_count": 9,
     "metadata": {},
     "output_type": "execute_result"
    }
   ],
   "source": [
    "arr_2d = np.arange(10, dtype=float).reshape((2,-1))\n",
    "arr_2d"
   ]
  },
  {
   "cell_type": "markdown",
   "metadata": {
    "id": "6aji0IArGcAN"
   },
   "source": [
    "Параметры массива:"
   ]
  },
  {
   "cell_type": "code",
   "execution_count": 10,
   "metadata": {
    "id": "r51IsUTPGcAN",
    "outputId": "63d0e1f9-39a7-466c-94d4-12d3758a0c61"
   },
   "outputs": [
    {
     "name": "stdout",
     "output_type": "stream",
     "text": [
      "(2, 5)\n",
      "float64\n",
      "(40, 8)\n"
     ]
    }
   ],
   "source": [
    "print(arr_2d.shape)\n",
    "print(arr_2d.dtype)\n",
    "print(arr_2d.strides)"
   ]
  },
  {
   "cell_type": "markdown",
   "metadata": {
    "id": "SHVzsA6-GcAO"
   },
   "source": [
    "### Способы задания массивов"
   ]
  },
  {
   "cell_type": "code",
   "execution_count": 11,
   "metadata": {
    "id": "E7mGjwKpGcAO",
    "outputId": "cced23b2-5026-424a-8329-3db590ebdcce"
   },
   "outputs": [
    {
     "data": {
      "text/plain": [
       "array([10, 15, 20])"
      ]
     },
     "execution_count": 11,
     "metadata": {},
     "output_type": "execute_result"
    }
   ],
   "source": [
    "# Create an array of evenly-spaced values\n",
    "np.arange(10, 25, 5)"
   ]
  },
  {
   "cell_type": "code",
   "execution_count": 12,
   "metadata": {
    "id": "tmG6EC6nGcAO",
    "outputId": "091c822c-025e-49a6-acac-d7714d3d9241"
   },
   "outputs": [
    {
     "data": {
      "text/plain": [
       "array([0.  , 0.25, 0.5 , 0.75, 1.  , 1.25, 1.5 , 1.75, 2.  ])"
      ]
     },
     "execution_count": 12,
     "metadata": {},
     "output_type": "execute_result"
    }
   ],
   "source": [
    "# Create an array of evenly-spaced values\n",
    "np.linspace(0, 2, 9)"
   ]
  },
  {
   "cell_type": "code",
   "execution_count": 13,
   "metadata": {
    "id": "Do9_BaCJGcAP",
    "outputId": "ca3bfb0c-06d4-463a-9a45-5031782686a9"
   },
   "outputs": [
    {
     "data": {
      "text/plain": [
       "array([[1., 1., 1., 1.],\n",
       "       [1., 1., 1., 1.],\n",
       "       [1., 1., 1., 1.]])"
      ]
     },
     "execution_count": 13,
     "metadata": {},
     "output_type": "execute_result"
    }
   ],
   "source": [
    "# Create an array of ones\n",
    "np.ones((3, 4))"
   ]
  },
  {
   "cell_type": "code",
   "execution_count": 14,
   "metadata": {
    "id": "b0-5qwKzGcAP",
    "outputId": "108ead10-5e51-4832-e794-4f094b25a0b9"
   },
   "outputs": [
    {
     "data": {
      "text/plain": [
       "array([[[0., 0., 0., 0.],\n",
       "        [0., 0., 0., 0.],\n",
       "        [0., 0., 0., 0.]],\n",
       "\n",
       "       [[0., 0., 0., 0.],\n",
       "        [0., 0., 0., 0.],\n",
       "        [0., 0., 0., 0.]]])"
      ]
     },
     "execution_count": 14,
     "metadata": {},
     "output_type": "execute_result"
    }
   ],
   "source": [
    "# Create an array of zeros\n",
    "np.zeros((2, 3, 4))"
   ]
  },
  {
   "cell_type": "code",
   "execution_count": 15,
   "metadata": {
    "id": "aoWGP4qJGcAP",
    "outputId": "5b86f7d2-56e0-46d6-d455-125b996ff60e"
   },
   "outputs": [
    {
     "data": {
      "text/plain": [
       "array([[0.55448963, 0.76751654],\n",
       "       [0.72468694, 0.68669967]])"
      ]
     },
     "execution_count": 15,
     "metadata": {},
     "output_type": "execute_result"
    }
   ],
   "source": [
    "# Create an array with random values\n",
    "np.random.random((2, 2))"
   ]
  },
  {
   "cell_type": "code",
   "execution_count": 16,
   "metadata": {
    "id": "ZLzvkylXGcAQ",
    "outputId": "54e374fc-6ebc-403d-efde-2a8951c41809"
   },
   "outputs": [
    {
     "data": {
      "text/plain": [
       "array([[7, 7],\n",
       "       [7, 7]])"
      ]
     },
     "execution_count": 16,
     "metadata": {},
     "output_type": "execute_result"
    }
   ],
   "source": [
    "# Create a full array\n",
    "np.full((2, 2), 7)"
   ]
  },
  {
   "cell_type": "code",
   "execution_count": 17,
   "metadata": {
    "id": "IC4MCWM1GcAQ",
    "outputId": "ab53a0a9-e28c-4c0f-b174-1686b21e750c"
   },
   "outputs": [
    {
     "data": {
      "text/plain": [
       "array([[1, 0, 0],\n",
       "       [0, 2, 0],\n",
       "       [0, 0, 3]])"
      ]
     },
     "execution_count": 17,
     "metadata": {},
     "output_type": "execute_result"
    }
   ],
   "source": [
    "# Create a diagonal matrix\n",
    "np.diag([1, 2, 3])"
   ]
  },
  {
   "cell_type": "markdown",
   "metadata": {
    "id": "RCukBqSMGcAQ"
   },
   "source": [
    "### Индексация элементов массива"
   ]
  },
  {
   "cell_type": "code",
   "execution_count": 18,
   "metadata": {
    "id": "ay3vX2gYGcAQ",
    "outputId": "908538d7-dcf3-405a-ac1f-16f6cbb8b895"
   },
   "outputs": [
    {
     "name": "stdout",
     "output_type": "stream",
     "text": [
      "0\n",
      "[3 9]\n",
      "[3 5 7 9]\n",
      "[6 7]\n",
      "[0 1 2 3 4 5 6]\n"
     ]
    }
   ],
   "source": [
    "a = np.arange(10)\n",
    "print(a[0])\n",
    "print(a[[3, -1]])\n",
    "print(a[3::2])\n",
    "print(a[6: -2])\n",
    "print(a[:-3])"
   ]
  },
  {
   "cell_type": "markdown",
   "metadata": {
    "id": "0zVv7u5pGcAR"
   },
   "source": [
    "Индексация многомерных массивов:"
   ]
  },
  {
   "cell_type": "code",
   "execution_count": 19,
   "metadata": {
    "id": "tpXQ262HGcAR",
    "outputId": "d63f5354-7cc8-4230-ee6a-d46668d5c1e9"
   },
   "outputs": [
    {
     "name": "stdout",
     "output_type": "stream",
     "text": [
      "0\n",
      "[[0 1 0]\n",
      " [0 0 2]]\n"
     ]
    }
   ],
   "source": [
    "a = np.diag(np.arange(3))\n",
    "print(a[1, 2])\n",
    "print(a[1:])"
   ]
  },
  {
   "cell_type": "markdown",
   "metadata": {
    "id": "kEiZwJDDGcAR"
   },
   "source": [
    "Бывает удобно использовать маски:"
   ]
  },
  {
   "cell_type": "code",
   "execution_count": 20,
   "metadata": {
    "id": "ve5xHh0EGcAR",
    "outputId": "d5fdd489-ac1e-41e8-ca62-0515b15726b4"
   },
   "outputs": [
    {
     "name": "stdout",
     "output_type": "stream",
     "text": [
      "[False False  True False False  True False False  True False]\n"
     ]
    }
   ],
   "source": [
    "a = np.arange(10, 20)\n",
    "mask = a % 3 == 0 \n",
    "print(mask) "
   ]
  },
  {
   "cell_type": "markdown",
   "metadata": {
    "id": "tkIkjZDlGcAR"
   },
   "source": [
    "Выбор элементов по маске"
   ]
  },
  {
   "cell_type": "code",
   "execution_count": 21,
   "metadata": {
    "id": "QE9i63aLGcAS",
    "outputId": "1b11717a-acea-4d38-af39-d1865245378a"
   },
   "outputs": [
    {
     "name": "stdout",
     "output_type": "stream",
     "text": [
      "[12 15 18]\n"
     ]
    }
   ],
   "source": [
    "print(a[mask])"
   ]
  },
  {
   "cell_type": "markdown",
   "metadata": {
    "id": "usmgGXmXGcAS"
   },
   "source": [
    "Операции над элементами по маске"
   ]
  },
  {
   "cell_type": "code",
   "execution_count": 22,
   "metadata": {
    "id": "nQjdqQHNGcAS",
    "outputId": "f0eee658-1148-469e-ba86-81f11f3ecf57"
   },
   "outputs": [
    {
     "name": "stdout",
     "output_type": "stream",
     "text": [
      "[10 11 -1 13 14 -1 16 17 -1 19]\n"
     ]
    }
   ],
   "source": [
    "a[a%3 == 0] = -1\n",
    "print(a)"
   ]
  },
  {
   "cell_type": "markdown",
   "metadata": {
    "id": "ZR7sX2FlGcAS"
   },
   "source": [
    "### Арифметические операции выполняются поэлементно"
   ]
  },
  {
   "cell_type": "code",
   "execution_count": 23,
   "metadata": {
    "id": "k0rNOIfMGcAS",
    "outputId": "d107acfd-d420-4dba-eb1c-d8e4bec35260"
   },
   "outputs": [
    {
     "name": "stdout",
     "output_type": "stream",
     "text": [
      "[2 3 4]\n",
      "[2 4 8]\n",
      "[1 4 9]\n"
     ]
    }
   ],
   "source": [
    "a = np.arange(1, 4)\n",
    "print(a + 1)\n",
    "print(2**a)\n",
    "print(a**2)"
   ]
  },
  {
   "cell_type": "markdown",
   "metadata": {
    "id": "LngNs8AJGcAT"
   },
   "source": [
    "### Функции над массивами"
   ]
  },
  {
   "cell_type": "code",
   "execution_count": 24,
   "metadata": {
    "id": "H5NN7tw1GcAT",
    "outputId": "75900d1c-8bad-4a0a-bd35-41280993098f"
   },
   "outputs": [
    {
     "name": "stdout",
     "output_type": "stream",
     "text": [
      "6 [0.84147098 0.90929743 0.14112001] 2.0 0.816496580927726 1\n"
     ]
    }
   ],
   "source": [
    "a = np.array([1, 2, 3])\n",
    "print(np.sum(a), np.sin(a), np.mean(a), np.std(a), np.min(a))"
   ]
  },
  {
   "cell_type": "markdown",
   "metadata": {
    "id": "iLvUx3FPGcAT"
   },
   "source": [
    "Многие функции являются  методами массива:"
   ]
  },
  {
   "cell_type": "code",
   "execution_count": 25,
   "metadata": {
    "id": "sQppD4MYGcAT",
    "outputId": "27e26546-1820-4b90-e808-21630b4180fe"
   },
   "outputs": [
    {
     "data": {
      "text/plain": [
       "True"
      ]
     },
     "execution_count": 25,
     "metadata": {},
     "output_type": "execute_result"
    }
   ],
   "source": [
    "a.mean() == np.mean(a)"
   ]
  },
  {
   "cell_type": "markdown",
   "metadata": {
    "id": "ek-j-59iGcAT"
   },
   "source": [
    "Для многомерных массивов можно управлять вдоль какой размерности применять метод:"
   ]
  },
  {
   "cell_type": "code",
   "execution_count": 26,
   "metadata": {
    "id": "bkrS-Yc1GcAT",
    "outputId": "3e607ea8-5a37-4877-b875-11712f511c3b"
   },
   "outputs": [
    {
     "name": "stdout",
     "output_type": "stream",
     "text": [
      "[ 1.5  5.5  9.5 13.5 17.5 21.5]\n"
     ]
    },
    {
     "data": {
      "text/plain": [
       "array([[ 0,  1,  2,  3],\n",
       "       [ 4,  5,  6,  7],\n",
       "       [ 8,  9, 10, 11],\n",
       "       [12, 13, 14, 15],\n",
       "       [16, 17, 18, 19],\n",
       "       [20, 21, 22, 23]])"
      ]
     },
     "execution_count": 26,
     "metadata": {},
     "output_type": "execute_result"
    }
   ],
   "source": [
    "a=np.arange(24).reshape((6, 4))\n",
    "print(np.mean(a, axis=1))\n",
    "a"
   ]
  },
  {
   "cell_type": "markdown",
   "metadata": {
    "id": "HxXdeA_YGcAU"
   },
   "source": [
    "Сортировка элементов:"
   ]
  },
  {
   "cell_type": "code",
   "execution_count": 27,
   "metadata": {
    "id": "9dDxIrEPGcAU",
    "outputId": "c97425c7-cd39-4207-80e4-aa2cf9a984a0"
   },
   "outputs": [
    {
     "name": "stdout",
     "output_type": "stream",
     "text": [
      "[-0.0295259   0.61738741  0.93351624  1.1827201   1.33612289] [4 2 0 3 1]\n"
     ]
    }
   ],
   "source": [
    "a = np.random.randn(5)\n",
    "print(np.sort(a), np.argsort(a))"
   ]
  },
  {
   "cell_type": "markdown",
   "metadata": {
    "id": "AUC-jfkpGcAU"
   },
   "source": [
    "### Сложение массивов"
   ]
  },
  {
   "cell_type": "code",
   "execution_count": 28,
   "metadata": {
    "id": "tmTAq144GcAU",
    "outputId": "2c75243e-cd49-4691-8979-8aa967f84f76"
   },
   "outputs": [
    {
     "name": "stdout",
     "output_type": "stream",
     "text": [
      "Array a\n",
      " [[4. 6.]\n",
      " [4. 2.]]\n",
      "Array b\n",
      " [[6. 1.]\n",
      " [7. 8.]]\n",
      "\n",
      "--Concatenate a and b vertically --\n",
      "\n",
      "[[4. 6.]\n",
      " [4. 2.]\n",
      " [6. 1.]\n",
      " [7. 8.]]\n",
      "\n",
      "--Concatenate a and b horizontally--\n",
      "\n",
      "[[4. 6. 6. 1.]\n",
      " [4. 2. 7. 8.]]\n"
     ]
    }
   ],
   "source": [
    "a = np.floor(10 * np.random.rand(2, 2))\n",
    "print('Array a\\n', a)\n",
    "\n",
    "b = np.floor(10 * np.random.rand(2, 2))\n",
    "print('Array b\\n', b)\n",
    "\n",
    "print('\\n--Concatenate a and b vertically --\\n')\n",
    "print(np.vstack((a, b))) # сложение по вертикали\n",
    "print('\\n--Concatenate a and b horizontally--\\n')\n",
    "print(np.hstack((a, b))) # сложение по горизонтали"
   ]
  },
  {
   "cell_type": "markdown",
   "metadata": {
    "id": "Slk14tdzGcAV"
   },
   "source": [
    "### Array broadcasting\n",
    "Схема ниже показывает, как происходит скложение массивов. Если shape у массивов не совпадают, то массив меньшей размерности \"естественным образом\" дополняется до большей размерности."
   ]
  },
  {
   "cell_type": "markdown",
   "metadata": {
    "id": "LXxAIJZRGcAV"
   },
   "source": [
    "![title](http://www.scipy-lectures.org/_images/numpy_broadcasting.png)"
   ]
  },
  {
   "cell_type": "code",
   "execution_count": 29,
   "metadata": {
    "id": "xn3BBtl8GcAV",
    "outputId": "7edd0d29-2bad-4fa2-dbbf-4326e2033db8"
   },
   "outputs": [
    {
     "name": "stdout",
     "output_type": "stream",
     "text": [
      "(3, 4) (4,)\n",
      "[[1.37199273 1.30938553 1.67594503 1.60689469]\n",
      " [1.37199273 1.30938553 1.67594503 1.60689469]\n",
      " [1.37199273 1.30938553 1.67594503 1.60689469]]\n"
     ]
    }
   ],
   "source": [
    "x = np.ones((3, 4))\n",
    "y = np.random.rand(4)\n",
    "\n",
    "# Add `x` and `y`. Note that `x` and `y` have different shapes.\n",
    "print(x.shape, y.shape)\n",
    "print(x + y)"
   ]
  },
  {
   "cell_type": "markdown",
   "metadata": {
    "id": "yivoEyJVGcAV"
   },
   "source": [
    "Как прибавить массив ко всем столбцам матрицы?"
   ]
  },
  {
   "cell_type": "code",
   "execution_count": 30,
   "metadata": {
    "id": "EukdLBn1GcAV",
    "outputId": "20531ffa-b701-428a-c0ad-671114e4f10b"
   },
   "outputs": [
    {
     "ename": "ValueError",
     "evalue": "operands could not be broadcast together with shapes (3,4) (3,) ",
     "output_type": "error",
     "traceback": [
      "\u001b[1;31m---------------------------------------------------------------------------\u001b[0m",
      "\u001b[1;31mValueError\u001b[0m                                Traceback (most recent call last)",
      "Input \u001b[1;32mIn [30]\u001b[0m, in \u001b[0;36m<cell line: 4>\u001b[1;34m()\u001b[0m\n\u001b[0;32m      1\u001b[0m x \u001b[38;5;241m=\u001b[39m np\u001b[38;5;241m.\u001b[39mones((\u001b[38;5;241m3\u001b[39m, \u001b[38;5;241m4\u001b[39m))\n\u001b[0;32m      2\u001b[0m y \u001b[38;5;241m=\u001b[39m np\u001b[38;5;241m.\u001b[39mrandom\u001b[38;5;241m.\u001b[39mrand(\u001b[38;5;241m3\u001b[39m)\n\u001b[1;32m----> 4\u001b[0m \u001b[38;5;28mprint\u001b[39m(\u001b[43mx\u001b[49m\u001b[43m \u001b[49m\u001b[38;5;241;43m+\u001b[39;49m\u001b[43m \u001b[49m\u001b[43my\u001b[49m)\n",
      "\u001b[1;31mValueError\u001b[0m: operands could not be broadcast together with shapes (3,4) (3,) "
     ]
    }
   ],
   "source": [
    "x = np.ones((3, 4))\n",
    "y = np.random.rand(3)\n",
    "\n",
    "print(x + y)"
   ]
  },
  {
   "cell_type": "code",
   "execution_count": null,
   "metadata": {
    "id": "67-p38aBGcAV"
   },
   "outputs": [],
   "source": [
    "#Fix me!"
   ]
  },
  {
   "cell_type": "markdown",
   "metadata": {
    "id": "h12JHurkGcAW"
   },
   "source": [
    "### Упражнения\n",
    "При решении стремитесь использовать минимальное число строк кода"
   ]
  },
  {
   "cell_type": "markdown",
   "metadata": {
    "id": "bchVJpLlGcAW"
   },
   "source": [
    "Создайте массив 10х10, заполненный в центре нулями, а по границе единицами."
   ]
  },
  {
   "cell_type": "code",
   "execution_count": null,
   "metadata": {
    "id": "FL1Xb6FAGcAW"
   },
   "outputs": [],
   "source": []
  },
  {
   "cell_type": "markdown",
   "metadata": {
    "id": "yujfS6cVGcAW"
   },
   "source": [
    "Создайте массив 8х8, заполненный 0 и 1 в шахматном порядке."
   ]
  },
  {
   "cell_type": "code",
   "execution_count": null,
   "metadata": {
    "id": "VMhHhLD4GcAW"
   },
   "outputs": [],
   "source": []
  },
  {
   "cell_type": "markdown",
   "metadata": {
    "id": "TypQOpAfGcAW"
   },
   "source": [
    "Создайте масив first_column из четырех элементов: 0, 10, 20, 30. Затем создайте двухмерный массив 4x5, в котором первый столбец - массив first_column, а каждый элемент каждой строки, начиная со второго,  больше предыдущего элемента этой же строки на 1."
   ]
  },
  {
   "cell_type": "code",
   "execution_count": null,
   "metadata": {
    "id": "DV6Ee0_8GcAW"
   },
   "outputs": [],
   "source": []
  },
  {
   "cell_type": "markdown",
   "metadata": {
    "id": "LvBNzFgbGcAW"
   },
   "source": [
    "Создайте случаынй массив 5х5 и нормируйте его так, чтобы среднее по каждой строке было в точности ноль."
   ]
  },
  {
   "cell_type": "code",
   "execution_count": null,
   "metadata": {
    "id": "uYwKplriGcAX"
   },
   "outputs": [],
   "source": []
  },
  {
   "cell_type": "markdown",
   "metadata": {
    "id": "vJryurYIGcAX"
   },
   "source": [
    "Создайте произвольный двумерный массив NxM, N, M > 1. На его основе создайте новый двумерный массив, значения в котором являются средним значением исходного во всевозможных окошках размера 2х2 со сдвигом 1 по вертикали и горизонтали. \n",
    "\n",
    "Пример входа:\n",
    "```\n",
    "array([[ 0,  1,  2,  3,  4,  5,  6,  7,  8,  9],\n",
    "       [10, 11, 12, 13, 14, 15, 16, 17, 18, 19],\n",
    "       [20, 21, 22, 23, 24, 25, 26, 27, 28, 29],\n",
    "       [30, 31, 32, 33, 34, 35, 36, 37, 38, 39]])\n",
    "```\n",
    "\n",
    "Ожидание на выходе:\n",
    "```\n",
    "array([[ 5.5,  6.5,  7.5,  8.5,  9.5, 10.5, 11.5, 12.5, 13.5],\n",
    "       [15.5, 16.5, 17.5, 18.5, 19.5, 20.5, 21.5, 22.5, 23.5],\n",
    "       [25.5, 26.5, 27.5, 28.5, 29.5, 30.5, 31.5, 32.5, 33.5]])\n",
    "```"
   ]
  },
  {
   "cell_type": "code",
   "execution_count": null,
   "metadata": {
    "id": "kbmGzD2RGcAX"
   },
   "outputs": [],
   "source": [
    "#Подсказка: numpy.lib.stride_tricks.sliding_window_view"
   ]
  },
  {
   "cell_type": "markdown",
   "metadata": {
    "id": "z2Poj-O8GcAX"
   },
   "source": [
    "### Read more\n",
    "\n",
    "[http://scipy-lectures.org/intro/numpy/array_object.html](http://scipy-lectures.org/intro/numpy/array_object.html)\n",
    "\n",
    "[https://www.datacamp.com/community/tutorials/python-numpy-tutorial](https://www.datacamp.com/community/tutorials/python-numpy-tutorial)\n",
    "\n",
    "[https://docs.scipy.org/doc/numpy/user/quickstart.html](https://docs.scipy.org/doc/numpy/user/quickstart.html)\n"
   ]
  },
  {
   "cell_type": "markdown",
   "metadata": {
    "id": "vPYMAA4dGcAX"
   },
   "source": [
    "### Let's practice: k-means clustering algorithm\n",
    "\n",
    "<img src=\"https://miro.medium.com/max/1400/1*TmvsQ4XaOxeb-TmKk1qgOw.png\" style=\"width: 60%;\"/>"
   ]
  },
  {
   "cell_type": "markdown",
   "metadata": {
    "id": "HcYpHSBOGcAX"
   },
   "source": [
    "В каких задачах может помочь кластеризация:\n",
    "* разделение выборки на группы\n",
    "* оценка числа групп в выборке\n",
    "* понижение размерности данных\n",
    "* поиск аномалий"
   ]
  },
  {
   "cell_type": "markdown",
   "metadata": {
    "id": "aqe6v5ROGcAY"
   },
   "source": [
    "Описание алгоритма k-means:"
   ]
  },
  {
   "cell_type": "markdown",
   "metadata": {
    "id": "tc4VbJ-bGcAY"
   },
   "source": [
    "<img src=\"https://www.researchgate.net/publication/325937073/figure/fig1/AS:640499832606720@1529718468476/Pseudocode-of-k-means-algorithm-K-means-algorithm-classifies-objects-in-clusters.png\" style=\"width: 60%;\"/>\n"
   ]
  },
  {
   "cell_type": "markdown",
   "metadata": {
    "id": "vG0ceYJmGcAY"
   },
   "source": [
    "Какой функционал минимизируетя алгоритом kmeans?\n",
    "\n",
    "Алгоритом kmeans минимизируется суммарная внутрикластерная дисперсия\n",
    "\n",
    "$$J(c_1, ..., c_K) = \\sum\\limits_{i=1}^{K}\\sum\\limits_{j\\in Cluster_i}||d_j - c_i||^2$$\n"
   ]
  },
  {
   "cell_type": "markdown",
   "metadata": {
    "id": "INbb47NfGcAY"
   },
   "source": [
    "Пример итераций алгоритма k-means:"
   ]
  },
  {
   "cell_type": "markdown",
   "metadata": {
    "id": "33SUcmvxGcAY"
   },
   "source": [
    "<img src=\"https://stanford.edu/~cpiech/cs221/img/kmeansViz.png\" style=\"width: 60%;\"/>"
   ]
  },
  {
   "cell_type": "markdown",
   "metadata": {
    "id": "M9giqQ2aGcAY"
   },
   "source": [
    "Оценка числа кластеров:"
   ]
  },
  {
   "cell_type": "markdown",
   "metadata": {
    "id": "AiWVdOaAGcAY"
   },
   "source": [
    "<img src=\"https://www.oreilly.com/library/view/statistics-for-machine/9781788295758/assets/995b8b58-06f1-4884-a2a1-f3648428e947.png\" style=\"width: 60%;\"/>"
   ]
  },
  {
   "cell_type": "markdown",
   "metadata": {
    "id": "gcA6-zVZGcAY"
   },
   "source": [
    "### Датасет MNIST"
   ]
  },
  {
   "cell_type": "markdown",
   "metadata": {
    "id": "FEWP4okFGcAZ"
   },
   "source": [
    "Одной из задач домашнего задания будет применить алгоритм kmeans для датасета MNSIT рукописных цифр. Для начала загрузим датасет и посмотрим что в нем."
   ]
  },
  {
   "cell_type": "code",
   "execution_count": 1,
   "metadata": {
    "id": "QysF5JQKGcAZ"
   },
   "outputs": [],
   "source": [
    "from sklearn.datasets import fetch_openml\n",
    "\n",
    "#Загрузка может занять около минуты\n",
    "images, labels = fetch_openml('mnist_784', return_X_y=True, as_frame=False)"
   ]
  },
  {
   "cell_type": "markdown",
   "metadata": {
    "id": "pHByxL92GcAZ"
   },
   "source": [
    "```images``` - массив картинок размера 28х28, вытянутых в вектор размера 784. Всего в датасете 70К примеров картинок"
   ]
  },
  {
   "cell_type": "code",
   "execution_count": 29,
   "metadata": {
    "id": "d6J2dEY_GcAZ",
    "outputId": "de5d1e09-a1d6-498f-96cf-df1de2b4cc85"
   },
   "outputs": [
    {
     "data": {
      "text/plain": [
       "array([  0.,   0.,   0.,   0.,   0.,   0.,   0.,   0.,   0.,   0.,   0.,\n",
       "         0.,   0.,   0.,   0.,   0.,   0.,   0.,   0.,   0.,   0.,   0.,\n",
       "         0.,   0.,   0.,   0.,   0.,   0.,   0.,   0.,   0.,   0.,   0.,\n",
       "         0.,   0.,   0.,   0.,   0.,   0.,   0.,   0.,   0.,   0.,   0.,\n",
       "         0.,   0.,   0.,   0.,   0.,   0.,   0.,   0.,   0.,   0.,   0.,\n",
       "         0.,   0.,   0.,   0.,   0.,   0.,   0.,   0.,   0.,   0.,   0.,\n",
       "         0.,   0.,   0.,   0.,   0.,   0.,   0.,   0.,   0.,   0.,   0.,\n",
       "         0.,   0.,   0.,   0.,   0.,   0.,   0.,   0.,   0.,   0.,   0.,\n",
       "         0.,   0.,   0.,   0.,   0.,   0.,   0.,   0.,   0.,   0.,   0.,\n",
       "         0.,   0.,   0.,   0.,   0.,   0.,   0.,   0.,   0.,   0.,   0.,\n",
       "         0.,   0.,   0.,   0.,   0.,   0.,   0.,   0.,   0.,   0.,   0.,\n",
       "         0.,   0.,   0.,   0.,   0.,   0.,   0.,   0.,   0.,   0.,   0.,\n",
       "         0.,   0.,   0.,   0.,   0.,   0.,   0.,   0.,   0.,   0.,   0.,\n",
       "         0.,   0.,   0.,   0.,   0.,   0.,   0.,   0.,   0.,   3.,  18.,\n",
       "        18.,  18., 126., 136., 175.,  26., 166., 255., 247., 127.,   0.,\n",
       "         0.,   0.,   0.,   0.,   0.,   0.,   0.,   0.,   0.,   0.,   0.,\n",
       "        30.,  36.,  94., 154., 170., 253., 253., 253., 253., 253., 225.,\n",
       "       172., 253., 242., 195.,  64.,   0.,   0.,   0.,   0.,   0.,   0.,\n",
       "         0.,   0.,   0.,   0.,   0.,  49., 238., 253., 253., 253., 253.,\n",
       "       253., 253., 253., 253., 251.,  93.,  82.,  82.,  56.,  39.,   0.,\n",
       "         0.,   0.,   0.,   0.,   0.,   0.,   0.,   0.,   0.,   0.,   0.,\n",
       "        18., 219., 253., 253., 253., 253., 253., 198., 182., 247., 241.,\n",
       "         0.,   0.,   0.,   0.,   0.,   0.,   0.,   0.,   0.,   0.,   0.,\n",
       "         0.,   0.,   0.,   0.,   0.,   0.,   0.,  80., 156., 107., 253.,\n",
       "       253., 205.,  11.,   0.,  43., 154.,   0.,   0.,   0.,   0.,   0.,\n",
       "         0.,   0.,   0.,   0.,   0.,   0.,   0.,   0.,   0.,   0.,   0.,\n",
       "         0.,   0.,   0.,  14.,   1., 154., 253.,  90.,   0.,   0.,   0.,\n",
       "         0.,   0.,   0.,   0.,   0.,   0.,   0.,   0.,   0.,   0.,   0.,\n",
       "         0.,   0.,   0.,   0.,   0.,   0.,   0.,   0.,   0.,   0.,   0.,\n",
       "       139., 253., 190.,   2.,   0.,   0.,   0.,   0.,   0.,   0.,   0.,\n",
       "         0.,   0.,   0.,   0.,   0.,   0.,   0.,   0.,   0.,   0.,   0.,\n",
       "         0.,   0.,   0.,   0.,   0.,   0.,  11., 190., 253.,  70.,   0.,\n",
       "         0.,   0.,   0.,   0.,   0.,   0.,   0.,   0.,   0.,   0.,   0.,\n",
       "         0.,   0.,   0.,   0.,   0.,   0.,   0.,   0.,   0.,   0.,   0.,\n",
       "         0.,   0.,  35., 241., 225., 160., 108.,   1.,   0.,   0.,   0.,\n",
       "         0.,   0.,   0.,   0.,   0.,   0.,   0.,   0.,   0.,   0.,   0.,\n",
       "         0.,   0.,   0.,   0.,   0.,   0.,   0.,   0.,   0.,  81., 240.,\n",
       "       253., 253., 119.,  25.,   0.,   0.,   0.,   0.,   0.,   0.,   0.,\n",
       "         0.,   0.,   0.,   0.,   0.,   0.,   0.,   0.,   0.,   0.,   0.,\n",
       "         0.,   0.,   0.,   0.,   0.,  45., 186., 253., 253., 150.,  27.,\n",
       "         0.,   0.,   0.,   0.,   0.,   0.,   0.,   0.,   0.,   0.,   0.,\n",
       "         0.,   0.,   0.,   0.,   0.,   0.,   0.,   0.,   0.,   0.,   0.,\n",
       "         0.,  16.,  93., 252., 253., 187.,   0.,   0.,   0.,   0.,   0.,\n",
       "         0.,   0.,   0.,   0.,   0.,   0.,   0.,   0.,   0.,   0.,   0.,\n",
       "         0.,   0.,   0.,   0.,   0.,   0.,   0.,   0.,   0., 249., 253.,\n",
       "       249.,  64.,   0.,   0.,   0.,   0.,   0.,   0.,   0.,   0.,   0.,\n",
       "         0.,   0.,   0.,   0.,   0.,   0.,   0.,   0.,   0.,   0.,   0.,\n",
       "         0.,  46., 130., 183., 253., 253., 207.,   2.,   0.,   0.,   0.,\n",
       "         0.,   0.,   0.,   0.,   0.,   0.,   0.,   0.,   0.,   0.,   0.,\n",
       "         0.,   0.,   0.,   0.,   0.,  39., 148., 229., 253., 253., 253.,\n",
       "       250., 182.,   0.,   0.,   0.,   0.,   0.,   0.,   0.,   0.,   0.,\n",
       "         0.,   0.,   0.,   0.,   0.,   0.,   0.,   0.,   0.,  24., 114.,\n",
       "       221., 253., 253., 253., 253., 201.,  78.,   0.,   0.,   0.,   0.,\n",
       "         0.,   0.,   0.,   0.,   0.,   0.,   0.,   0.,   0.,   0.,   0.,\n",
       "         0.,   0.,  23.,  66., 213., 253., 253., 253., 253., 198.,  81.,\n",
       "         2.,   0.,   0.,   0.,   0.,   0.,   0.,   0.,   0.,   0.,   0.,\n",
       "         0.,   0.,   0.,   0.,   0.,   0.,  18., 171., 219., 253., 253.,\n",
       "       253., 253., 195.,  80.,   9.,   0.,   0.,   0.,   0.,   0.,   0.,\n",
       "         0.,   0.,   0.,   0.,   0.,   0.,   0.,   0.,   0.,   0.,  55.,\n",
       "       172., 226., 253., 253., 253., 253., 244., 133.,  11.,   0.,   0.,\n",
       "         0.,   0.,   0.,   0.,   0.,   0.,   0.,   0.,   0.,   0.,   0.,\n",
       "         0.,   0.,   0.,   0.,   0., 136., 253., 253., 253., 212., 135.,\n",
       "       132.,  16.,   0.,   0.,   0.,   0.,   0.,   0.,   0.,   0.,   0.,\n",
       "         0.,   0.,   0.,   0.,   0.,   0.,   0.,   0.,   0.,   0.,   0.,\n",
       "         0.,   0.,   0.,   0.,   0.,   0.,   0.,   0.,   0.,   0.,   0.,\n",
       "         0.,   0.,   0.,   0.,   0.,   0.,   0.,   0.,   0.,   0.,   0.,\n",
       "         0.,   0.,   0.,   0.,   0.,   0.,   0.,   0.,   0.,   0.,   0.,\n",
       "         0.,   0.,   0.,   0.,   0.,   0.,   0.,   0.,   0.,   0.,   0.,\n",
       "         0.,   0.,   0.,   0.,   0.,   0.,   0.,   0.,   0.,   0.,   0.,\n",
       "         0.,   0.,   0.,   0.,   0.,   0.,   0.,   0.,   0.,   0.,   0.,\n",
       "         0.,   0.,   0.,   0.,   0.,   0.,   0.,   0.,   0.,   0.,   0.,\n",
       "         0.,   0.,   0.])"
      ]
     },
     "execution_count": 29,
     "metadata": {},
     "output_type": "execute_result"
    }
   ],
   "source": [
    "images[0]"
   ]
  },
  {
   "cell_type": "markdown",
   "metadata": {
    "id": "qkf6tD9AGcAZ"
   },
   "source": [
    "```labels``` - массив, в котором записано, какая цифра нарисована на каждой картинке картинке"
   ]
  },
  {
   "cell_type": "code",
   "execution_count": 19,
   "metadata": {
    "id": "ftOfRk2OGcAZ",
    "outputId": "61119334-dea2-4f29-a6cd-91fdccdbc80b"
   },
   "outputs": [
    {
     "data": {
      "text/plain": [
       "(1000,)"
      ]
     },
     "execution_count": 19,
     "metadata": {},
     "output_type": "execute_result"
    }
   ],
   "source": [
    "labels[:1000].shape"
   ]
  },
  {
   "cell_type": "markdown",
   "metadata": {
    "id": "kzWPixB8GcAZ"
   },
   "source": [
    "Нарисуем пример одной из картинок:"
   ]
  },
  {
   "cell_type": "code",
   "execution_count": 6,
   "metadata": {
    "id": "-ugOr13NGcAa",
    "outputId": "9cb5e9fe-a697-42a1-fd64-ebdb3d4d0567"
   },
   "outputs": [
    {
     "data": {
      "image/png": "[encoded data removed]",
      "text/plain": [
       "<Figure size 432x288 with 1 Axes>"
      ]
     },
     "metadata": {
      "needs_background": "light"
     },
     "output_type": "display_data"
    }
   ],
   "source": [
    "import matplotlib.pyplot as plt\n",
    "\n",
    "i = 111\n",
    "plt.imshow(images[i].reshape(28, 28), cmap='Greys_r')\n",
    "plt.title('Number ' + labels[i])\n",
    "plt.show()"
   ]
  },
  {
   "cell_type": "markdown",
   "metadata": {
    "id": "L9AUfhLYGcAa"
   },
   "source": [
    "Можно предположить, что в пространстве размера 784 картинки, отвечающие разным цифрам, лежат в отдельных кластерах. В домашнем задании предстоит выяснить, что по этому поводу думает алгоритм kmeans. "
   ]
  },
  {
   "cell_type": "markdown",
   "metadata": {
    "id": "dt-YaZA3GcAa"
   },
   "source": [
    "### Homework"
   ]
  },
  {
   "cell_type": "markdown",
   "metadata": {
    "id": "2T3-ElSnGcAa"
   },
   "source": [
    "1. Создайте матрицу 5x5 со значениями 1,2,3,4 под главной диагональю. Остальные значения - нули.\n",
    "\n",
    "2. Создайте двумерный массив 10x3, заполненный случайными значениями. В каждой строке выберите значение, наиболее близкое к 0.5.\n",
    "\n",
    "3. Создайте двумерный массив 6x6, заполненный случайными значениями. Сумму по каждой строке поделите на максимальный элемент из столбца с тем же индексом.\n",
    "\n",
    "4. На примере массива x = np.array([6, 2, 0, 3, 0, 0, 5, 7, 0]) найдите максимальный элемент в массиве среди элементов, перед которыми стоит ноль.\n",
    "\n",
    "5. Пусть заданы два массива x = np.ones(10) и i = np.array([0, 1, 2, 3, 5, 5, 5, 8]). Прибавьте единицу к тем элементам массива x, индексы которых указаны в массиве i. В случае, если некоторый индекс встретился в массиве i несколько раз, прибавьте к соответствующему элементу массива x число вхождений данного индекса в массив i.\n",
    "\n",
    "6. Сколько вы можете предложить способов округлить значения в массиве до ближайшего целого?\n",
    " \n",
    "7. Написать функцию, реализующую алгоритм k-means.\n",
    "\n",
    "    Входом в функцию является\n",
    "    * массив NxM, где N - число объектов, M - число признаков объекта\n",
    "    * k - число кластеров\n",
    "    * max_iter - максимальное число итераций\n",
    "    * theshold - критерий остановки (если на очередной итерации метода суммарное квадратичное отклонение изменяется меньше, чем на theshold, итерации прекращаются)\n",
    "    \n",
    "   Выход:\n",
    "   * массив длины  N, содержащий индексы кластеров от 0 до k-1\n",
    "   * суммарное квадратичное отклонение для полученного разбиения на кластеры\n",
    "   \n",
    "   **Фунция должна содержать не более 2 циклов for/while!**\n",
    "   **Стремитесь  обойтись как можно меньшим количеством строк кода.**\n",
    "\n",
    "Примечание: алгоритм может работать долго из-за того, что долго происходит выделение памяти под большие массивы. С точки зрения эффективности - это плохой пример, но целью задания является написание не самого быстрого, а самого компактного алгоритма.\n",
    "    \n",
    "\n",
    "8. Выделить кластеры в датасете MNIST:\n",
    "    * Сперва попробуйте K=10. Дайте интерпретацию каждому полученному кластеру (к какой цифре его можно отнести). Нарисуйте изображения, которые отвечают центрам кластеров. Посчитайте, сколько из точек кластера действительно являются той цифрой, к которой вы его отнесли (для этого сравните с массивом правильных ответов ```labels```)\n",
    "    * Попробуйте подобрать оптимальное число кластеров методом elbow (можно предположить, что некоторые цифры распадаются на несколько кластеров, например, 7 можно писать с черточкой и без и т.д.)\n",
    "\n",
    "Примечание: можно уменьшить размер выборки MNIST, например, до 10К, чтобы алгоритм работал быстрее. \n",
    "  "
   ]
  },
  {
   "cell_type": "code",
   "execution_count": 56,
   "metadata": {},
   "outputs": [
    {
     "data": {
      "text/plain": [
       "<matplotlib.image.AxesImage at 0x1f10e316c50>"
      ]
     },
     "execution_count": 56,
     "metadata": {},
     "output_type": "execute_result"
    },
    {
     "data": {
      "image/png": "[encoded data removed]",
      "text/plain": [
       "<Figure size 432x288 with 1 Axes>"
      ]
     },
     "metadata": {
      "needs_background": "light"
     },
     "output_type": "display_data"
    }
   ],
   "source": [
    "import matplotlib.pyplot as plt\n",
    "\n",
    "plt.imshow(kmeans.cluster_centers_[3].reshape(28, 28), cmap='Greys_r')"
   ]
  },
  {
   "cell_type": "code",
   "execution_count": 1,
   "metadata": {
    "id": "hn0SJbDnGcAa"
   },
   "outputs": [
    {
     "data": {
      "text/plain": [
       "array([[0., 0., 0., 0., 0.],\n",
       "       [1., 0., 0., 0., 0.],\n",
       "       [0., 2., 0., 0., 0.],\n",
       "       [0., 0., 3., 0., 0.],\n",
       "       [0., 0., 0., 4., 0.]])"
      ]
     },
     "execution_count": 1,
     "metadata": {},
     "output_type": "execute_result"
    }
   ],
   "source": [
    "#1\n",
    "\n",
    "import numpy as np\n",
    "a = np.diag([1, 2, 3, 4])\n",
    "b = np.zeros(4)\n",
    "c = np.zeros(5).reshape(5, 1)\n",
    "a = np.hstack((np.vstack((b, a)), c))\n",
    "a"
   ]
  },
  {
   "cell_type": "code",
   "execution_count": 13,
   "metadata": {},
   "outputs": [
    {
     "name": "stdout",
     "output_type": "stream",
     "text": [
      "[[0.15800863 0.45517967 0.80703832]\n",
      " [0.32129897 0.87669261 0.90188098]\n",
      " [0.35704298 0.43911181 0.7270404 ]\n",
      " [0.12077124 0.43120013 0.70193717]\n",
      " [0.97602985 0.13115    0.22341301]\n",
      " [0.09396964 0.15199986 0.50160922]\n",
      " [0.30089092 0.95499191 0.38446743]\n",
      " [0.1882934  0.93331602 0.70631754]\n",
      " [0.94773811 0.73995939 0.96940491]\n",
      " [0.026153   0.97174869 0.13955649]]\n",
      "[0.45517967 0.32129897 0.43911181 0.43120013 0.22341301 0.50160922\n",
      " 0.38446743 0.70631754 0.73995939 0.13955649]\n"
     ]
    }
   ],
   "source": [
    "#2\n",
    "\n",
    "\n",
    "a = np.random.random((10, 3))\n",
    "print(a)\n",
    "\n",
    "print(a[np.arange(10), np.argmin(abs(a-0.5), axis = 1)])"
   ]
  },
  {
   "cell_type": "code",
   "execution_count": 33,
   "metadata": {},
   "outputs": [
    {
     "name": "stdout",
     "output_type": "stream",
     "text": [
      "[[3.97093924e-01 3.68099144e-01 3.52927796e-01 7.07157897e-01\n",
      "  1.49252245e-01 6.54183583e-01]\n",
      " [5.25871879e-01 2.96865057e-02 2.28503231e-01 3.81054055e-01\n",
      "  3.35775711e-02 7.16719189e-01]\n",
      " [5.76018773e-01 2.29966638e-01 2.66819663e-01 1.83421296e-01\n",
      "  8.46522055e-01 5.26386310e-01]\n",
      " [3.96889647e-01 6.32060719e-01 1.51091610e-01 8.99334792e-04\n",
      "  5.46315693e-01 3.94667627e-01]\n",
      " [3.85542541e-01 2.27166183e-01 8.46395320e-01 4.53505897e-01\n",
      "  2.73538399e-01 1.53353934e-01]\n",
      " [1.41012998e-01 9.80344799e-01 7.63354524e-02 5.58596766e-01\n",
      "  3.34160639e-01 5.11289662e-01]]\n",
      "0.21912564221685038\n",
      "[0.21912564 0.51181917 0.32192923 0.3332625  0.36183853 0.27547684]\n"
     ]
    }
   ],
   "source": [
    "#3\n",
    "\n",
    "A = np.random.random((6, 6))\n",
    "print(A)\n",
    "a = np.max(A, axis = 0)\n",
    "b = np.sum(A, axis = 1)\n",
    "print(a/b)"
   ]
  },
  {
   "cell_type": "code",
   "execution_count": 35,
   "metadata": {},
   "outputs": [
    {
     "name": "stdout",
     "output_type": "stream",
     "text": [
      "5\n"
     ]
    }
   ],
   "source": [
    "#4\n",
    "\n",
    "x = np.array([6, 2, 0, 3, 0, 0, 5, 7, 0])\n",
    "\n",
    "print(np.max(x[1:][(x==0)[:-1]]))"
   ]
  },
  {
   "cell_type": "code",
   "execution_count": 36,
   "metadata": {},
   "outputs": [
    {
     "name": "stdout",
     "output_type": "stream",
     "text": [
      "[2. 2. 2. 2. 1. 4. 1. 1. 2. 1.]\n"
     ]
    }
   ],
   "source": [
    "#5\n",
    "\n",
    "x = np.ones(10)\n",
    "i = np.array([0, 1, 2, 3, 5, 5, 5, 8])\n",
    "\n",
    "print(x + np.bincount(i, minlength = len(x)))"
   ]
  },
  {
   "cell_type": "code",
   "execution_count": 42,
   "metadata": {},
   "outputs": [
    {
     "name": "stdout",
     "output_type": "stream",
     "text": [
      "6\n",
      "7\n",
      "7\n"
     ]
    }
   ],
   "source": [
    "#6\n",
    "import math\n",
    "print(int(6.5478))\n",
    "print(round(6.5478))\n",
    "print(math.ceil(6.5478))"
   ]
  },
  {
   "cell_type": "code",
   "execution_count": 48,
   "metadata": {},
   "outputs": [
    {
     "name": "stdout",
     "output_type": "stream",
     "text": [
      "[1 2 0]\n"
     ]
    },
    {
     "ename": "IndexError",
     "evalue": "index 3 is out of bounds for axis 0 with size 3",
     "output_type": "error",
     "traceback": [
      "\u001b[1;31m---------------------------------------------------------------------------\u001b[0m",
      "\u001b[1;31mIndexError\u001b[0m                                Traceback (most recent call last)",
      "Input \u001b[1;32mIn [48]\u001b[0m, in \u001b[0;36m<cell line: 11>\u001b[1;34m()\u001b[0m\n\u001b[0;32m      9\u001b[0m         clusters[item]\u001b[38;5;241m.\u001b[39mappend(X[item])\n\u001b[0;32m     10\u001b[0m     \u001b[38;5;28mprint\u001b[39m(clusters)\n\u001b[1;32m---> 11\u001b[0m \u001b[43mk_means\u001b[49m\u001b[43m(\u001b[49m\u001b[43mX\u001b[49m\u001b[43m,\u001b[49m\u001b[43m \u001b[49m\u001b[38;5;241;43m5\u001b[39;49m\u001b[43m,\u001b[49m\u001b[43m \u001b[49m\u001b[38;5;241;43m5\u001b[39;49m\u001b[43m,\u001b[49m\u001b[43m \u001b[49m\u001b[38;5;241;43m5\u001b[39;49m\u001b[43m)\u001b[49m\n",
      "Input \u001b[1;32mIn [48]\u001b[0m, in \u001b[0;36mk_means\u001b[1;34m(X, k, max_iter, theshold)\u001b[0m\n\u001b[0;32m      7\u001b[0m clusters \u001b[38;5;241m=\u001b[39m [[] \u001b[38;5;28;01mfor\u001b[39;00m i \u001b[38;5;129;01min\u001b[39;00m \u001b[38;5;28mrange\u001b[39m(k)]\n\u001b[0;32m      8\u001b[0m \u001b[38;5;28;01mfor\u001b[39;00m item \u001b[38;5;129;01min\u001b[39;00m \u001b[38;5;28mrange\u001b[39m(k):\n\u001b[1;32m----> 9\u001b[0m     clusters[item]\u001b[38;5;241m.\u001b[39mappend(\u001b[43mX\u001b[49m\u001b[43m[\u001b[49m\u001b[43mitem\u001b[49m\u001b[43m]\u001b[49m)\n\u001b[0;32m     10\u001b[0m \u001b[38;5;28mprint\u001b[39m(clusters)\n",
      "\u001b[1;31mIndexError\u001b[0m: index 3 is out of bounds for axis 0 with size 3"
     ]
    }
   ],
   "source": [
    "#7\n",
    "X = np.array([[1, 2], [2, 2], [0, 3]])\n",
    "print(X[:,0])\n",
    "def k_means(X, k, max_iter, theshold):\n",
    "    N = len(X[:,0])\n",
    "    M = len(X[0])\n",
    "    clusters = [[] for i in range(k)]\n",
    "    for item in range(k):\n",
    "        clusters[item].append(X[item])\n",
    "    print(clusters)\n",
    "k_means(X, 5, 5, 5)\n",
    "        "
   ]
  },
  {
   "cell_type": "code",
   "execution_count": null,
   "metadata": {},
   "outputs": [],
   "source": []
  }
 ],
 "metadata": {
  "anaconda-cloud": {},
  "colab": {
   "collapsed_sections": [
    "SHVzsA6-GcAO",
    "RCukBqSMGcAQ",
    "ZR7sX2FlGcAS",
    "LngNs8AJGcAT",
    "AUC-jfkpGcAU",
    "Slk14tdzGcAV",
    "h12JHurkGcAW",
    "z2Poj-O8GcAX",
    "vPYMAA4dGcAX",
    "gcA6-zVZGcAY"
   ],
   "provenance": [
    {
     "file_id": "1rEJbwnGniCXn-Zo7k9PBDKliZ9Er65Iz",
     "timestamp": 1664120799340
    }
   ]
  },
  "kernelspec": {
   "display_name": "Python 3 (ipykernel)",
   "language": "python",
   "name": "python3"
  },
  "language_info": {
   "codemirror_mode": {
    "name": "ipython",
    "version": 3
   },
   "file_extension": ".py",
   "mimetype": "text/x-python",
   "name": "python",
   "nbconvert_exporter": "python",
   "pygments_lexer": "ipython3",
   "version": "3.10.5"
  }
 },
 "nbformat": 4,
 "nbformat_minor": 1
}
